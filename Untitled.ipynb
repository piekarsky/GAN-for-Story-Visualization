{
 "cells": [
  {
   "cell_type": "code",
   "execution_count": 231,
   "metadata": {},
   "outputs": [],
   "source": [
    "import os\n",
    "import random\n",
    "import numpy as np\n",
    "import matplotlib.pyplot as plt\n",
    "import cv2\n",
    "import tensorflow.keras.layers as kl"
   ]
  },
  {
   "cell_type": "code",
   "execution_count": null,
   "metadata": {},
   "outputs": [],
   "source": [
    "df = os.path.join(os.getcwd(), 'dataset')"
   ]
  },
  {
   "cell_type": "code",
   "execution_count": null,
   "metadata": {},
   "outputs": [],
   "source": [
    "def read_images(path:str, limit:int=0):\n",
    "        \n",
    "    images = []\n",
    "    \n",
    "    for fname in tqdm(os.listdir(path)):\n",
    "        fpath = os.path.join(path, fname) # ścieżka do konkretnego zdjęcia\n",
    "        img = cv2.cvtColor(cv2.imread(fpath), cv2.COLOR_BGR2RGB) # wczytanie oraz konwersja obrazu z przestrzeni BGR->RGB\n",
    "        if limit !=0 and limit == int(len(images)): # warunek limitujący\n",
    "            return images\n",
    "        images.append(img)\n",
    "        \n",
    "    return images\n",
    "\n",
    "def check_shape(images:list, shape=(160,160,3)):\n",
    "    \n",
    "    counter = 0\n",
    "    for img in images:\n",
    "        if img.shape != shape:\n",
    "            print(\"Obrazy są różnego kształtu ;(!\")\n",
    "            counter +=1\n",
    "            \n",
    "            def plot_images(images:list,n:int):\n",
    "    \n",
    "    plt.figure(figsize=(15,15))\n",
    "    for i in range(n**2):\n",
    "        plt.subplot(n,n,1+i)\n",
    "        plt.axis(\"off\")\n",
    "        plt.imshow(images[i])\n",
    "        \n",
    "    plt.show()\n",
    "    \n",
    "def plot_images(images:list,n:int):\n",
    "    \n",
    "    plt.figure(figsize=(15,15))\n",
    "    for i in range(n**2):\n",
    "        plt.subplot(n,n,1+i)\n",
    "        plt.axis(\"off\")\n",
    "        plt.imshow(images[i])\n",
    "        \n",
    "    plt.show()\n",
    "    \n",
    "def normalize_imgs(images:np.array):\n",
    "        \n",
    "    images = images.astype('float32')\n",
    "    images = (images - 127.5) / 127.5\n",
    "    return images"
   ]
  },
  {
   "cell_type": "code",
   "execution_count": null,
   "metadata": {},
   "outputs": [],
   "source": []
  },
  {
   "cell_type": "code",
   "execution_count": null,
   "metadata": {},
   "outputs": [],
   "source": [
    " SHAPE = (80,80,3) \n",
    "\n",
    "imgs = read_images(dataset_path,3500) \n",
    "faces = crop_imgs(imgs) \n",
    "del imgs "
   ]
  }
 ],
 "metadata": {
  "kernelspec": {
   "display_name": "Python 3",
   "language": "python",
   "name": "python3"
  },
  "language_info": {
   "codemirror_mode": {
    "name": "ipython",
    "version": 3
   },
   "file_extension": ".py",
   "mimetype": "text/x-python",
   "name": "python",
   "nbconvert_exporter": "python",
   "pygments_lexer": "ipython3",
   "version": "3.7.3"
  }
 },
 "nbformat": 4,
 "nbformat_minor": 4
}
