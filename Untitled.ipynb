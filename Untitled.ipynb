{
 "cells": [
  {
   "cell_type": "code",
   "execution_count": 231,
   "metadata": {},
   "outputs": [],
   "source": [
    "import os\n",
    "import random\n",
    "import numpy as np\n",
    "import matplotlib.pyplot as plt\n",
    "import cv2\n",
    "import tensorflow.keras.layers as kl"
   ]
  },
  {
   "cell_type": "code",
   "execution_count": null,
   "metadata": {},
   "outputs": [],
   "source": [
    "df = os.path.join(os.getcwd(), 'dataset')"
   ]
  },
  {
   "cell_type": "code",
   "execution_count": null,
   "metadata": {},
   "outputs": [],
   "source": [
    "def read_images(path:str, limit:int=0):\n",
    "    \"\"\"\n",
    "    Metoda wczytująca obraz podanej scieżki. Ilość wczytanych obrazów zależy od zdefiniowanego parametru limit\n",
    "    \"\"\"\n",
    "    \n",
    "    images = []\n",
    "    \n",
    "    for fname in tqdm(os.listdir(path)):\n",
    "        fpath = os.path.join(path, fname) # ścieżka do konkretnego zdjęcia\n",
    "        img = cv2.cvtColor(cv2.imread(fpath), cv2.COLOR_BGR2RGB) # wczytanie oraz konwersja obrazu z przestrzeni BGR->RGB\n",
    "        if limit !=0 and limit == int(len(images)): # warunek limitujący\n",
    "            return images\n",
    "        images.append(img)\n",
    "        \n",
    "    return images\n",
    "\n",
    "def check_shape(images:list, shape=(160,160,3)):\n",
    "    \n",
    "    counter = 0\n",
    "    for img in images:\n",
    "        if img.shape != shape:\n",
    "            print(\"Obrazy są różnego kształtu ;(!\")\n",
    "            counter +=1"
   ]
  },
  {
   "cell_type": "code",
   "execution_count": null,
   "metadata": {},
   "outputs": [],
   "source": [
    " SHAPE = (80,80,3) # kształt obrazów jaki będzie podawany do dyskryminatora oraz jaki będzie generowany przez generator\n",
    "\n",
    "imgs = read_images(dataset_path,3500) # wczytujemy pierwsze n obrazów z folderu"
   ]
  }
 ],
 "metadata": {
  "kernelspec": {
   "display_name": "Python 3",
   "language": "python",
   "name": "python3"
  },
  "language_info": {
   "codemirror_mode": {
    "name": "ipython",
    "version": 3
   },
   "file_extension": ".py",
   "mimetype": "text/x-python",
   "name": "python",
   "nbconvert_exporter": "python",
   "pygments_lexer": "ipython3",
   "version": "3.7.3"
  }
 },
 "nbformat": 4,
 "nbformat_minor": 4
}
